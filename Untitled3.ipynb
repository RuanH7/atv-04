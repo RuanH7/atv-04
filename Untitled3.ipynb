{
  "nbformat": 4,
  "nbformat_minor": 0,
  "metadata": {
    "colab": {
      "provenance": []
    },
    "kernelspec": {
      "name": "python3",
      "display_name": "Python 3"
    },
    "language_info": {
      "name": "python"
    }
  },
  "cells": [
    {
      "cell_type": "code",
      "execution_count": null,
      "metadata": {
        "id": "6wKeY0cF8iom"
      },
      "outputs": [],
      "source": [
        "import statistics\n",
        "\n",
        "# Lista com 14 elementos em ordem crescente\n",
        "dados = [10, 11, 12, 13, 14, 15, 16, 17, 18, 19, 20, 21, 22, 23, 24]\n"
      ]
    },
    {
      "cell_type": "code",
      "source": [
        "media = statistics.mean(dados)\n",
        "mediana = statistics.median(dados)\n",
        "\n",
        "print(\"Média:\", media)\n",
        "print(\"Mediana:\", mediana)\n"
      ],
      "metadata": {
        "id": "XHS7OkvF9U2V"
      },
      "execution_count": null,
      "outputs": []
    },
    {
      "cell_type": "code",
      "source": [
        "import statistics as st\n",
        "\n",
        "media = st.mean(dados)\n",
        "mediana = st.median(dados)\n",
        "\n",
        "print(\"Média (com alias):\", media)\n",
        "print(\"Mediana (com alias):\", mediana)\n"
      ],
      "metadata": {
        "id": "YWO7afXB9Y3l"
      },
      "execution_count": null,
      "outputs": []
    },
    {
      "cell_type": "code",
      "source": [
        "from statistics import mean, median\n",
        "\n",
        "media = mean(dados)\n",
        "mediana = median(dados)\n",
        "\n",
        "print(\"Média (funções específicas):\", media)\n",
        "print(\"Mediana (funções específicas):\", mediana)\n"
      ],
      "metadata": {
        "id": "KHmMpB6E9blX"
      },
      "execution_count": null,
      "outputs": []
    },
    {
      "cell_type": "code",
      "source": [
        "from statistics import *\n",
        "\n",
        "media = mean(dados)\n",
        "mediana = median(dados)\n",
        "\n",
        "print(\"Média (importação total):\", media)\n",
        "print(\"Mediana (importação total):\", mediana)\n"
      ],
      "metadata": {
        "id": "IDPvMknq9iKQ"
      },
      "execution_count": null,
      "outputs": []
    }
  ]
}